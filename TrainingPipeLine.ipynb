{
 "cells": [
  {
   "cell_type": "code",
   "execution_count": 1,
   "id": "initial_id",
   "metadata": {
    "ExecuteTime": {
     "end_time": "2024-03-12T14:09:58.770691Z",
     "start_time": "2024-03-12T14:09:52.723226Z"
    },
    "collapsed": true
   },
   "outputs": [],
   "source": [
    "import logging\n",
    "from glob import glob\n",
    "from natsort import natsorted\n",
    "from config import N_DEFAULT_CHARSET\n",
    "from src.Modules import CRNNNetwork, EasterNetwork, OCRTrainer\n",
    "\n",
    "logging.getLogger().setLevel(logging.INFO)"
   ]
  },
  {
   "cell_type": "code",
   "execution_count": 2,
   "id": "84e72549cc5c70ce",
   "metadata": {
    "ExecuteTime": {
     "end_time": "2024-03-12T14:10:05.984901Z",
     "start_time": "2024-03-12T14:09:58.772716Z"
    },
    "collapsed": false
   },
   "outputs": [],
   "source": [
    "charset = N_DEFAULT_CHARSET\n",
    "num_classes=len(charset)+1\n",
    "\n",
    "network = CRNNNetwork(num_classes=num_classes)\n",
    "network = EasterNetwork(num_classes=num_classes)"
   ]
  },
  {
   "cell_type": "code",
   "execution_count": 3,
   "id": "7e9d0d7c663200c9",
   "metadata": {
    "ExecuteTime": {
     "end_time": "2024-03-12T14:10:28.967315Z",
     "start_time": "2024-03-12T14:10:25.808643Z"
    },
    "collapsed": false
   },
   "outputs": [
    {
     "name": "stdout",
     "output_type": "stream",
     "text": [
      "Images: 14930, Labels:14930\n"
     ]
    }
   ],
   "source": [
    "dataset_path = \"D:/Data/Tibetan/OCR/NyGB\"\n",
    "images = natsorted(glob(f\"{dataset_path}/lines/*.jpg\"))\n",
    "labels = natsorted(glob(f\"{dataset_path}/transcriptions/*.txt\"))\n",
    "print(f\"Images: {len(images)}, Labels:{len(labels)}\")"
   ]
  },
  {
   "cell_type": "code",
   "execution_count": null,
   "id": "5a1739ad745b186c",
   "metadata": {
    "ExecuteTime": {
     "end_time": "2024-03-12T14:12:46.514303Z",
     "start_time": "2024-03-12T14:10:30.648320Z"
    },
    "collapsed": false
   },
   "outputs": [],
   "source": [
    "workers = 8\n",
    "ocr_trainer = OCRTrainer(network=network, image_paths=images, label_paths=labels, workers=workers)\n",
    "ocr_trainer.train(epochs=80)"
   ]
  }
 ],
 "metadata": {
  "kernelspec": {
   "display_name": "Python 3",
   "language": "python",
   "name": "python3"
  },
  "language_info": {
   "codemirror_mode": {
    "name": "ipython",
    "version": 3
   },
   "file_extension": ".py",
   "mimetype": "text/x-python",
   "name": "python",
   "nbconvert_exporter": "python",
   "pygments_lexer": "ipython3",
   "version": "3.12.2"
  }
 },
 "nbformat": 4,
 "nbformat_minor": 5
}
