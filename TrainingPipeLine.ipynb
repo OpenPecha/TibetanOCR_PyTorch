{
 "cells": [
  {
   "cell_type": "code",
   "execution_count": 1,
   "id": "initial_id",
   "metadata": {
    "collapsed": true,
    "ExecuteTime": {
     "end_time": "2024-03-12T14:09:58.770691Z",
     "start_time": "2024-03-12T14:09:52.723226Z"
    }
   },
   "outputs": [],
   "source": [
    "import logging\n",
    "from glob import glob\n",
    "from natsort import natsorted\n",
    "from config import N_DEFAULT_CHARSET\n",
    "from src.Modules import CRNNNetwork, EasterNetwork, OCRTrainer\n",
    "\n",
    "logging.getLogger().setLevel(logging.INFO)"
   ]
  },
  {
   "cell_type": "code",
   "outputs": [],
   "source": [
    "charset = N_DEFAULT_CHARSET\n",
    "num_classes=len(charset)+1\n",
    "\n",
    "crnn_network = CRNNNetwork(num_classes=num_classes)\n",
    "easter_network = EasterNetwork(num_classes=num_classes)"
   ],
   "metadata": {
    "collapsed": false,
    "ExecuteTime": {
     "end_time": "2024-03-12T14:10:05.984901Z",
     "start_time": "2024-03-12T14:09:58.772716Z"
    }
   },
   "id": "84e72549cc5c70ce",
   "execution_count": 2
  },
  {
   "cell_type": "code",
   "outputs": [
    {
     "name": "stdout",
     "output_type": "stream",
     "text": [
      "Images: 6000, Labels:6000\n"
     ]
    }
   ],
   "source": [
    "dataset_path = \"D:/Projects/Python/JKW-SB/Datasets/Khyentse/Dataset\"\n",
    "images = natsorted(glob(f\"{dataset_path}/lines/*.jpg\"))[:6000]\n",
    "labels = natsorted(glob(f\"{dataset_path}/transcriptions/*.txt\"))[:6000]\n",
    "\n",
    "print(f\"Images: {len(images)}, Labels:{len(labels)}\")"
   ],
   "metadata": {
    "collapsed": false,
    "ExecuteTime": {
     "end_time": "2024-03-12T14:10:28.967315Z",
     "start_time": "2024-03-12T14:10:25.808643Z"
    }
   },
   "id": "7e9d0d7c663200c9",
   "execution_count": 4
  },
  {
   "cell_type": "code",
   "outputs": [
    {
     "name": "stderr",
     "output_type": "stream",
     "text": [
      "INFO:root:Train Images: 4800, Train Labels: 4800\n",
      "INFO:root:Validation Images: 600, Validation Images: 600\n",
      "INFO:root:Test Images: 600, Test Labels: 600\n",
      "INFO:root:Saved data distribution to: Output\\2024_3_12_15_10\\data.distribution.\n",
      "reading labels: 100%|██████████| 4800/4800 [00:15<00:00, 313.13it/s]\n",
      "reading labels: 100%|██████████| 600/600 [00:01<00:00, 543.48it/s]\n",
      "reading labels: 100%|██████████| 600/600 [00:00<00:00, 787.40it/s]\n",
      "INFO:root:Training network....\n",
      "100%|██████████| 149/149 [01:11<00:00,  2.08it/s]\n",
      "INFO:root:Epoch 1 => Train-Loss: 533.9119207395003\n",
      "100%|██████████| 18/18 [00:05<00:00,  3.24it/s]\n",
      "INFO:root:Epoch 1 => Val-Loss: 533.9119207395003\n",
      "INFO:root:Saved checkpoint to: Output\\2024_3_12_15_10\\OCRModel.pth.\n",
      "INFO:root:Training history saved to: Output\\2024_3_12_15_10\\history.txt.\n",
      "INFO:root:Saved model config to: Output\\2024_3_12_15_10\\model_config.json\n",
      "F:\\Github\\TibetanOCR_PyTorch\\.venv\\Lib\\site-packages\\torch\\onnx\\_internal\\jit_utils.py:307: UserWarning: Constant folding - Only steps=1 can be constant folded for opset >= 10 onnx::Slice op. Constant folding not applied. (Triggered internally at ..\\torch\\csrc\\jit\\passes\\onnx\\constant_fold.cpp:181.)\n",
      "  _C._jit_pass_onnx_node_shape_type_inference(node, params_dict, opset_version)\n",
      "F:\\Github\\TibetanOCR_PyTorch\\.venv\\Lib\\site-packages\\torch\\onnx\\utils.py:702: UserWarning: Constant folding - Only steps=1 can be constant folded for opset >= 10 onnx::Slice op. Constant folding not applied. (Triggered internally at ..\\torch\\csrc\\jit\\passes\\onnx\\constant_fold.cpp:181.)\n",
      "  _C._jit_pass_onnx_graph_shape_type_inference(\n",
      "F:\\Github\\TibetanOCR_PyTorch\\.venv\\Lib\\site-packages\\torch\\onnx\\utils.py:1209: UserWarning: Constant folding - Only steps=1 can be constant folded for opset >= 10 onnx::Slice op. Constant folding not applied. (Triggered internally at ..\\torch\\csrc\\jit\\passes\\onnx\\constant_fold.cpp:181.)\n",
      "  _C._jit_pass_onnx_graph_shape_type_inference(\n",
      "INFO:root:Onnx file exported to: Output\\2024_3_12_15_10/model.onnx\n",
      "INFO:root:Training complete.\n"
     ]
    }
   ],
   "source": [
    "ocr_trainer = OCRTrainer(network=easter_network, image_paths=images, label_paths=labels)\n",
    "ocr_trainer.train(epochs=1)"
   ],
   "metadata": {
    "collapsed": false,
    "ExecuteTime": {
     "end_time": "2024-03-12T14:12:46.514303Z",
     "start_time": "2024-03-12T14:10:30.648320Z"
    }
   },
   "id": "5a1739ad745b186c",
   "execution_count": 5
  },
  {
   "cell_type": "code",
   "outputs": [
    {
     "name": "stderr",
     "output_type": "stream",
     "text": [
      "INFO:root:Train Images: 4800, Train Labels: 4800\n",
      "INFO:root:Validation Images: 600, Validation Images: 600\n",
      "INFO:root:Test Images: 600, Test Labels: 600\n",
      "INFO:root:Saved data distribution to: Output\\2024_3_12_14_59\\data.distribution.\n",
      "reading labels: 100%|██████████| 4800/4800 [00:02<00:00, 1723.52it/s]\n",
      "reading labels: 100%|██████████| 600/600 [00:00<00:00, 1709.30it/s]\n",
      "reading labels: 100%|██████████| 600/600 [00:00<00:00, 1709.33it/s]\n",
      "INFO:root:Training network....\n",
      "  2%|▏         | 3/149 [02:07<1:43:13, 42.42s/it]\n"
     ]
    },
    {
     "ename": "KeyboardInterrupt",
     "evalue": "",
     "output_type": "error",
     "traceback": [
      "\u001B[1;31m---------------------------------------------------------------------------\u001B[0m",
      "\u001B[1;31mKeyboardInterrupt\u001B[0m                         Traceback (most recent call last)",
      "Cell \u001B[1;32mIn[6], line 2\u001B[0m\n\u001B[0;32m      1\u001B[0m ocr_trainer2 \u001B[38;5;241m=\u001B[39m OCRTrainer(network\u001B[38;5;241m=\u001B[39mcrnn_network, image_paths\u001B[38;5;241m=\u001B[39mimages, label_paths\u001B[38;5;241m=\u001B[39mlabels)\n\u001B[1;32m----> 2\u001B[0m \u001B[43mocr_trainer2\u001B[49m\u001B[38;5;241;43m.\u001B[39;49m\u001B[43mtrain\u001B[49m\u001B[43m(\u001B[49m\u001B[43mepochs\u001B[49m\u001B[38;5;241;43m=\u001B[39;49m\u001B[38;5;241;43m1\u001B[39;49m\u001B[43m)\u001B[49m\n",
      "File \u001B[1;32mF:\\Github\\TibetanOCR_PyTorch\\src\\Modules.py:497\u001B[0m, in \u001B[0;36mtrain\u001B[1;34m(self, epochs)\u001B[0m\n\u001B[0;32m    494\u001B[0m     train_size \u001B[38;5;241m=\u001B[39m images\u001B[38;5;241m.\u001B[39msize(\u001B[38;5;241m0\u001B[39m)\n\u001B[0;32m    496\u001B[0m     epoch_train_loss \u001B[38;5;241m+\u001B[39m\u001B[38;5;241m=\u001B[39m train_loss\n\u001B[1;32m--> 497\u001B[0m     tot_train_count \u001B[38;5;241m+\u001B[39m\u001B[38;5;241m=\u001B[39m train_size\n\u001B[0;32m    499\u001B[0m train_loss \u001B[38;5;241m=\u001B[39m epoch_train_loss \u001B[38;5;241m/\u001B[39m tot_train_count\n\u001B[0;32m    500\u001B[0m logging\u001B[38;5;241m.\u001B[39minfo(\u001B[38;5;124mf\u001B[39m\u001B[38;5;124m\"\u001B[39m\u001B[38;5;124mEpoch \u001B[39m\u001B[38;5;132;01m{\u001B[39;00mepoch\u001B[38;5;132;01m}\u001B[39;00m\u001B[38;5;124m => Train-Loss: \u001B[39m\u001B[38;5;132;01m{\u001B[39;00mtrain_loss\u001B[38;5;132;01m}\u001B[39;00m\u001B[38;5;124m\"\u001B[39m)\n",
      "File \u001B[1;32mF:\\Github\\TibetanOCR_PyTorch\\src\\Modules.py:133\u001B[0m, in \u001B[0;36mtrain\u001B[1;34m(self, data_batch, clip_grads, grad_clip)\u001B[0m\n\u001B[0;32m    131\u001B[0m \u001B[38;5;28;01mdef\u001B[39;00m \u001B[38;5;21mget_checkpoint\u001B[39m(\u001B[38;5;28mself\u001B[39m):\n\u001B[0;32m    132\u001B[0m     checkpoint \u001B[38;5;241m=\u001B[39m {\n\u001B[1;32m--> 133\u001B[0m         \u001B[38;5;124m\"\u001B[39m\u001B[38;5;124mstate_dict\u001B[39m\u001B[38;5;124m\"\u001B[39m: \u001B[38;5;28mself\u001B[39m\u001B[38;5;241m.\u001B[39mmodel\u001B[38;5;241m.\u001B[39mstate_dict(),\n\u001B[0;32m    134\u001B[0m         \u001B[38;5;124m\"\u001B[39m\u001B[38;5;124moptimizer\u001B[39m\u001B[38;5;124m\"\u001B[39m: \u001B[38;5;28mself\u001B[39m\u001B[38;5;241m.\u001B[39moptimizer\u001B[38;5;241m.\u001B[39mstate_dict(),\n\u001B[0;32m    135\u001B[0m     }\n\u001B[0;32m    137\u001B[0m     \u001B[38;5;28;01mreturn\u001B[39;00m checkpoint\n",
      "\u001B[1;31mKeyboardInterrupt\u001B[0m: "
     ]
    }
   ],
   "source": [
    "ocr_trainer2 = OCRTrainer(network=crnn_network, image_paths=images, label_paths=labels)\n",
    "ocr_trainer2.train(epochs=1)"
   ],
   "metadata": {
    "collapsed": false,
    "ExecuteTime": {
     "end_time": "2024-03-12T14:03:25.056614Z",
     "start_time": "2024-03-12T13:59:48.846707Z"
    }
   },
   "id": "3909608b7dddff33",
   "execution_count": 6
  },
  {
   "cell_type": "code",
   "outputs": [],
   "source": [
    "class TestClass:\n",
    "    def __init__(self, name=\"TestClass\"):\n",
    "        self.name = name\n",
    "        \n",
    "    def run_test(self):\n",
    "        print(f\"Running Base Test\")\n",
    "        \n",
    "class ChildTestClass(TestClass):\n",
    "    def __init__(self):\n",
    "        super().__init__()\n",
    "        "
   ],
   "metadata": {
    "collapsed": false,
    "ExecuteTime": {
     "end_time": "2024-03-12T14:07:26.913902Z",
     "start_time": "2024-03-12T14:07:26.909555Z"
    }
   },
   "id": "75d3642203a8abf1",
   "execution_count": 21
  },
  {
   "cell_type": "code",
   "outputs": [],
   "source": [
    "child_class = ChildTestClass()"
   ],
   "metadata": {
    "collapsed": false,
    "ExecuteTime": {
     "end_time": "2024-03-12T14:07:27.621762Z",
     "start_time": "2024-03-12T14:07:27.609705Z"
    }
   },
   "id": "ed877dd380f74546",
   "execution_count": 22
  },
  {
   "cell_type": "code",
   "outputs": [
    {
     "name": "stdout",
     "output_type": "stream",
     "text": [
      "Running Base Test\n"
     ]
    }
   ],
   "source": [
    "child_class.run_test()"
   ],
   "metadata": {
    "collapsed": false,
    "ExecuteTime": {
     "end_time": "2024-03-12T14:07:28.187307Z",
     "start_time": "2024-03-12T14:07:28.182611Z"
    }
   },
   "id": "731faa8f2070d5d1",
   "execution_count": 23
  },
  {
   "cell_type": "code",
   "outputs": [
    {
     "data": {
      "text/plain": "'TestClass'"
     },
     "execution_count": 24,
     "metadata": {},
     "output_type": "execute_result"
    }
   ],
   "source": [
    "child_class.name"
   ],
   "metadata": {
    "collapsed": false,
    "ExecuteTime": {
     "end_time": "2024-03-12T14:07:29.136128Z",
     "start_time": "2024-03-12T14:07:29.127968Z"
    }
   },
   "id": "f3f8e82a2c15cb91",
   "execution_count": 24
  },
  {
   "cell_type": "code",
   "outputs": [],
   "source": [],
   "metadata": {
    "collapsed": false
   },
   "id": "2be28abf6d7a5c30"
  }
 ],
 "metadata": {
  "kernelspec": {
   "display_name": "Python 3",
   "language": "python",
   "name": "python3"
  },
  "language_info": {
   "codemirror_mode": {
    "name": "ipython",
    "version": 2
   },
   "file_extension": ".py",
   "mimetype": "text/x-python",
   "name": "python",
   "nbconvert_exporter": "python",
   "pygments_lexer": "ipython2",
   "version": "2.7.6"
  }
 },
 "nbformat": 4,
 "nbformat_minor": 5
}
